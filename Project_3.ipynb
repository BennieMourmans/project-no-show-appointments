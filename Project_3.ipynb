{
 "cells": [
  {
   "cell_type": "markdown",
   "metadata": {},
   "source": [
    "\n",
    "# Project: Analyzing no-show medical appointments\n",
    "\n",
    "## Table of Contents\n",
    "<ul>\n",
    "<li><a href=\"#intro\">Introduction</a></li>\n",
    "<li><a href=\"#wrangling\">Data Wrangling</a></li>\n",
    "<li><a href=\"#eda\">Exploratory Data Analysis</a></li>\n",
    "<li><a href=\"#conclusions\">Conclusions</a></li>\n",
    "</ul>"
   ]
  },
  {
   "cell_type": "markdown",
   "metadata": {},
   "source": [
    "<a id='intro'></a>\n",
    "## Introduction\n",
    "\n",
    "For this project we'll be taking a look at what factors might contribute to people missing their medical appointments. The dataset we'll be using contains information on 100k+ medical appointments scheduled in Brazil.\n",
    "\n",
    "Our main interest is what factors can be used to predict whether a person will show up to their medical appointment or not. To help guide the analysis, we'll answer the following questions:\n",
    "\n",
    "1. Does the likelihood of missing appointments depend on gender?\n",
    "2. What is the effect of the waiting time on missing/showing up?\n",
    "3. Does age affect no show appointments?\n",
    "4. Can we build a simple model to predict whether a person will show up or not?\n",
    "\n",
    "To start off, let's import the packages and data we need for this project."
   ]
  },
  {
   "cell_type": "code",
   "execution_count": 1,
   "metadata": {},
   "outputs": [],
   "source": [
    "import pandas as pd\n",
    "import numpy as np\n",
    "import matplotlib.pyplot as plt\n",
    "import seaborn as sns\n",
    "import statsmodels.api as sm\n",
    "\n",
    "# To plot the visulizations inline with the notebook\n",
    "% matplotlib inline\n",
    "\n",
    "# Import the data\n",
    "df = pd.read_csv('noshow.csv')"
   ]
  },
  {
   "cell_type": "markdown",
   "metadata": {},
   "source": [
    "<a id='wrangling'></a>\n",
    "## Data Wrangling\n",
    "\n",
    "Let's continue by getting an idea of the general properties of the dataset."
   ]
  },
  {
   "cell_type": "code",
   "execution_count": 2,
   "metadata": {},
   "outputs": [
    {
     "data": {
      "text/html": [
       "<div>\n",
       "<style scoped>\n",
       "    .dataframe tbody tr th:only-of-type {\n",
       "        vertical-align: middle;\n",
       "    }\n",
       "\n",
       "    .dataframe tbody tr th {\n",
       "        vertical-align: top;\n",
       "    }\n",
       "\n",
       "    .dataframe thead th {\n",
       "        text-align: right;\n",
       "    }\n",
       "</style>\n",
       "<table border=\"1\" class=\"dataframe\">\n",
       "  <thead>\n",
       "    <tr style=\"text-align: right;\">\n",
       "      <th></th>\n",
       "      <th>PatientId</th>\n",
       "      <th>AppointmentID</th>\n",
       "      <th>Gender</th>\n",
       "      <th>ScheduledDay</th>\n",
       "      <th>AppointmentDay</th>\n",
       "      <th>Age</th>\n",
       "      <th>Neighbourhood</th>\n",
       "      <th>Scholarship</th>\n",
       "      <th>Hipertension</th>\n",
       "      <th>Diabetes</th>\n",
       "      <th>Alcoholism</th>\n",
       "      <th>Handcap</th>\n",
       "      <th>SMS_received</th>\n",
       "      <th>No-show</th>\n",
       "    </tr>\n",
       "  </thead>\n",
       "  <tbody>\n",
       "    <tr>\n",
       "      <th>0</th>\n",
       "      <td>2.987250e+13</td>\n",
       "      <td>5642903</td>\n",
       "      <td>F</td>\n",
       "      <td>2016-04-29T18:38:08Z</td>\n",
       "      <td>2016-04-29T00:00:00Z</td>\n",
       "      <td>62</td>\n",
       "      <td>JARDIM DA PENHA</td>\n",
       "      <td>0</td>\n",
       "      <td>1</td>\n",
       "      <td>0</td>\n",
       "      <td>0</td>\n",
       "      <td>0</td>\n",
       "      <td>0</td>\n",
       "      <td>No</td>\n",
       "    </tr>\n",
       "    <tr>\n",
       "      <th>1</th>\n",
       "      <td>5.589978e+14</td>\n",
       "      <td>5642503</td>\n",
       "      <td>M</td>\n",
       "      <td>2016-04-29T16:08:27Z</td>\n",
       "      <td>2016-04-29T00:00:00Z</td>\n",
       "      <td>56</td>\n",
       "      <td>JARDIM DA PENHA</td>\n",
       "      <td>0</td>\n",
       "      <td>0</td>\n",
       "      <td>0</td>\n",
       "      <td>0</td>\n",
       "      <td>0</td>\n",
       "      <td>0</td>\n",
       "      <td>No</td>\n",
       "    </tr>\n",
       "    <tr>\n",
       "      <th>2</th>\n",
       "      <td>4.262962e+12</td>\n",
       "      <td>5642549</td>\n",
       "      <td>F</td>\n",
       "      <td>2016-04-29T16:19:04Z</td>\n",
       "      <td>2016-04-29T00:00:00Z</td>\n",
       "      <td>62</td>\n",
       "      <td>MATA DA PRAIA</td>\n",
       "      <td>0</td>\n",
       "      <td>0</td>\n",
       "      <td>0</td>\n",
       "      <td>0</td>\n",
       "      <td>0</td>\n",
       "      <td>0</td>\n",
       "      <td>No</td>\n",
       "    </tr>\n",
       "    <tr>\n",
       "      <th>3</th>\n",
       "      <td>8.679512e+11</td>\n",
       "      <td>5642828</td>\n",
       "      <td>F</td>\n",
       "      <td>2016-04-29T17:29:31Z</td>\n",
       "      <td>2016-04-29T00:00:00Z</td>\n",
       "      <td>8</td>\n",
       "      <td>PONTAL DE CAMBURI</td>\n",
       "      <td>0</td>\n",
       "      <td>0</td>\n",
       "      <td>0</td>\n",
       "      <td>0</td>\n",
       "      <td>0</td>\n",
       "      <td>0</td>\n",
       "      <td>No</td>\n",
       "    </tr>\n",
       "    <tr>\n",
       "      <th>4</th>\n",
       "      <td>8.841186e+12</td>\n",
       "      <td>5642494</td>\n",
       "      <td>F</td>\n",
       "      <td>2016-04-29T16:07:23Z</td>\n",
       "      <td>2016-04-29T00:00:00Z</td>\n",
       "      <td>56</td>\n",
       "      <td>JARDIM DA PENHA</td>\n",
       "      <td>0</td>\n",
       "      <td>1</td>\n",
       "      <td>1</td>\n",
       "      <td>0</td>\n",
       "      <td>0</td>\n",
       "      <td>0</td>\n",
       "      <td>No</td>\n",
       "    </tr>\n",
       "  </tbody>\n",
       "</table>\n",
       "</div>"
      ],
      "text/plain": [
       "      PatientId  AppointmentID Gender          ScheduledDay  \\\n",
       "0  2.987250e+13        5642903      F  2016-04-29T18:38:08Z   \n",
       "1  5.589978e+14        5642503      M  2016-04-29T16:08:27Z   \n",
       "2  4.262962e+12        5642549      F  2016-04-29T16:19:04Z   \n",
       "3  8.679512e+11        5642828      F  2016-04-29T17:29:31Z   \n",
       "4  8.841186e+12        5642494      F  2016-04-29T16:07:23Z   \n",
       "\n",
       "         AppointmentDay  Age      Neighbourhood  Scholarship  Hipertension  \\\n",
       "0  2016-04-29T00:00:00Z   62    JARDIM DA PENHA            0             1   \n",
       "1  2016-04-29T00:00:00Z   56    JARDIM DA PENHA            0             0   \n",
       "2  2016-04-29T00:00:00Z   62      MATA DA PRAIA            0             0   \n",
       "3  2016-04-29T00:00:00Z    8  PONTAL DE CAMBURI            0             0   \n",
       "4  2016-04-29T00:00:00Z   56    JARDIM DA PENHA            0             1   \n",
       "\n",
       "   Diabetes  Alcoholism  Handcap  SMS_received No-show  \n",
       "0         0           0        0             0      No  \n",
       "1         0           0        0             0      No  \n",
       "2         0           0        0             0      No  \n",
       "3         0           0        0             0      No  \n",
       "4         1           0        0             0      No  "
      ]
     },
     "execution_count": 2,
     "metadata": {},
     "output_type": "execute_result"
    }
   ],
   "source": [
    "# print the first 5 rows of the dataset\n",
    "df.head()"
   ]
  },
  {
   "cell_type": "code",
   "execution_count": 3,
   "metadata": {},
   "outputs": [
    {
     "data": {
      "text/plain": [
       "(110527, 14)"
      ]
     },
     "execution_count": 3,
     "metadata": {},
     "output_type": "execute_result"
    }
   ],
   "source": [
    "# number of rows and columns\n",
    "df.shape"
   ]
  },
  {
   "cell_type": "markdown",
   "metadata": {},
   "source": [
    "As we can see, the dataset contains 14 columns and 110,527 appointments. The **SheduledDay** and **AppointmentDay** columns refer to the date the appointment was scheduled and the date of the actual appointment itself respectively. The **Scholarship** column indicates whether the patient received welfare through Brazil's so-called *Bolsa Familia* program. The **No-show** column is a little bit tricky: *No* means that the person did show up to the appointment and *Yes* means that this appointment was missed. \n",
    "\n",
    "Now let's take a look at the data types, missing values, and duplicates:"
   ]
  },
  {
   "cell_type": "code",
   "execution_count": 4,
   "metadata": {},
   "outputs": [
    {
     "name": "stdout",
     "output_type": "stream",
     "text": [
      "<class 'pandas.core.frame.DataFrame'>\n",
      "RangeIndex: 110527 entries, 0 to 110526\n",
      "Data columns (total 14 columns):\n",
      "PatientId         110527 non-null float64\n",
      "AppointmentID     110527 non-null int64\n",
      "Gender            110527 non-null object\n",
      "ScheduledDay      110527 non-null object\n",
      "AppointmentDay    110527 non-null object\n",
      "Age               110527 non-null int64\n",
      "Neighbourhood     110527 non-null object\n",
      "Scholarship       110527 non-null int64\n",
      "Hipertension      110527 non-null int64\n",
      "Diabetes          110527 non-null int64\n",
      "Alcoholism        110527 non-null int64\n",
      "Handcap           110527 non-null int64\n",
      "SMS_received      110527 non-null int64\n",
      "No-show           110527 non-null object\n",
      "dtypes: float64(1), int64(8), object(5)\n",
      "memory usage: 11.8+ MB\n"
     ]
    }
   ],
   "source": [
    "df.info()"
   ]
  },
  {
   "cell_type": "code",
   "execution_count": 5,
   "metadata": {},
   "outputs": [
    {
     "data": {
      "text/plain": [
       "0"
      ]
     },
     "execution_count": 5,
     "metadata": {},
     "output_type": "execute_result"
    }
   ],
   "source": [
    "# check for duplicates\n",
    "df.duplicated().sum()"
   ]
  },
  {
   "cell_type": "markdown",
   "metadata": {},
   "source": [
    "None of the columns appears to have any missing values, and there are no duplicates. One issue with the data that we can see from here is that the dates are formatted as objects. \n",
    "\n",
    "Some summary statistics:"
   ]
  },
  {
   "cell_type": "code",
   "execution_count": 6,
   "metadata": {},
   "outputs": [
    {
     "data": {
      "text/html": [
       "<div>\n",
       "<style scoped>\n",
       "    .dataframe tbody tr th:only-of-type {\n",
       "        vertical-align: middle;\n",
       "    }\n",
       "\n",
       "    .dataframe tbody tr th {\n",
       "        vertical-align: top;\n",
       "    }\n",
       "\n",
       "    .dataframe thead th {\n",
       "        text-align: right;\n",
       "    }\n",
       "</style>\n",
       "<table border=\"1\" class=\"dataframe\">\n",
       "  <thead>\n",
       "    <tr style=\"text-align: right;\">\n",
       "      <th></th>\n",
       "      <th>PatientId</th>\n",
       "      <th>AppointmentID</th>\n",
       "      <th>Age</th>\n",
       "      <th>Scholarship</th>\n",
       "      <th>Hipertension</th>\n",
       "      <th>Diabetes</th>\n",
       "      <th>Alcoholism</th>\n",
       "      <th>Handcap</th>\n",
       "      <th>SMS_received</th>\n",
       "    </tr>\n",
       "  </thead>\n",
       "  <tbody>\n",
       "    <tr>\n",
       "      <th>count</th>\n",
       "      <td>1.105270e+05</td>\n",
       "      <td>1.105270e+05</td>\n",
       "      <td>110527.000000</td>\n",
       "      <td>110527.000000</td>\n",
       "      <td>110527.000000</td>\n",
       "      <td>110527.000000</td>\n",
       "      <td>110527.000000</td>\n",
       "      <td>110527.000000</td>\n",
       "      <td>110527.000000</td>\n",
       "    </tr>\n",
       "    <tr>\n",
       "      <th>mean</th>\n",
       "      <td>1.474963e+14</td>\n",
       "      <td>5.675305e+06</td>\n",
       "      <td>37.088874</td>\n",
       "      <td>0.098266</td>\n",
       "      <td>0.197246</td>\n",
       "      <td>0.071865</td>\n",
       "      <td>0.030400</td>\n",
       "      <td>0.022248</td>\n",
       "      <td>0.321026</td>\n",
       "    </tr>\n",
       "    <tr>\n",
       "      <th>std</th>\n",
       "      <td>2.560949e+14</td>\n",
       "      <td>7.129575e+04</td>\n",
       "      <td>23.110205</td>\n",
       "      <td>0.297675</td>\n",
       "      <td>0.397921</td>\n",
       "      <td>0.258265</td>\n",
       "      <td>0.171686</td>\n",
       "      <td>0.161543</td>\n",
       "      <td>0.466873</td>\n",
       "    </tr>\n",
       "    <tr>\n",
       "      <th>min</th>\n",
       "      <td>3.921784e+04</td>\n",
       "      <td>5.030230e+06</td>\n",
       "      <td>-1.000000</td>\n",
       "      <td>0.000000</td>\n",
       "      <td>0.000000</td>\n",
       "      <td>0.000000</td>\n",
       "      <td>0.000000</td>\n",
       "      <td>0.000000</td>\n",
       "      <td>0.000000</td>\n",
       "    </tr>\n",
       "    <tr>\n",
       "      <th>25%</th>\n",
       "      <td>4.172614e+12</td>\n",
       "      <td>5.640286e+06</td>\n",
       "      <td>18.000000</td>\n",
       "      <td>0.000000</td>\n",
       "      <td>0.000000</td>\n",
       "      <td>0.000000</td>\n",
       "      <td>0.000000</td>\n",
       "      <td>0.000000</td>\n",
       "      <td>0.000000</td>\n",
       "    </tr>\n",
       "    <tr>\n",
       "      <th>50%</th>\n",
       "      <td>3.173184e+13</td>\n",
       "      <td>5.680573e+06</td>\n",
       "      <td>37.000000</td>\n",
       "      <td>0.000000</td>\n",
       "      <td>0.000000</td>\n",
       "      <td>0.000000</td>\n",
       "      <td>0.000000</td>\n",
       "      <td>0.000000</td>\n",
       "      <td>0.000000</td>\n",
       "    </tr>\n",
       "    <tr>\n",
       "      <th>75%</th>\n",
       "      <td>9.439172e+13</td>\n",
       "      <td>5.725524e+06</td>\n",
       "      <td>55.000000</td>\n",
       "      <td>0.000000</td>\n",
       "      <td>0.000000</td>\n",
       "      <td>0.000000</td>\n",
       "      <td>0.000000</td>\n",
       "      <td>0.000000</td>\n",
       "      <td>1.000000</td>\n",
       "    </tr>\n",
       "    <tr>\n",
       "      <th>max</th>\n",
       "      <td>9.999816e+14</td>\n",
       "      <td>5.790484e+06</td>\n",
       "      <td>115.000000</td>\n",
       "      <td>1.000000</td>\n",
       "      <td>1.000000</td>\n",
       "      <td>1.000000</td>\n",
       "      <td>1.000000</td>\n",
       "      <td>4.000000</td>\n",
       "      <td>1.000000</td>\n",
       "    </tr>\n",
       "  </tbody>\n",
       "</table>\n",
       "</div>"
      ],
      "text/plain": [
       "          PatientId  AppointmentID            Age    Scholarship  \\\n",
       "count  1.105270e+05   1.105270e+05  110527.000000  110527.000000   \n",
       "mean   1.474963e+14   5.675305e+06      37.088874       0.098266   \n",
       "std    2.560949e+14   7.129575e+04      23.110205       0.297675   \n",
       "min    3.921784e+04   5.030230e+06      -1.000000       0.000000   \n",
       "25%    4.172614e+12   5.640286e+06      18.000000       0.000000   \n",
       "50%    3.173184e+13   5.680573e+06      37.000000       0.000000   \n",
       "75%    9.439172e+13   5.725524e+06      55.000000       0.000000   \n",
       "max    9.999816e+14   5.790484e+06     115.000000       1.000000   \n",
       "\n",
       "        Hipertension       Diabetes     Alcoholism        Handcap  \\\n",
       "count  110527.000000  110527.000000  110527.000000  110527.000000   \n",
       "mean        0.197246       0.071865       0.030400       0.022248   \n",
       "std         0.397921       0.258265       0.171686       0.161543   \n",
       "min         0.000000       0.000000       0.000000       0.000000   \n",
       "25%         0.000000       0.000000       0.000000       0.000000   \n",
       "50%         0.000000       0.000000       0.000000       0.000000   \n",
       "75%         0.000000       0.000000       0.000000       0.000000   \n",
       "max         1.000000       1.000000       1.000000       4.000000   \n",
       "\n",
       "        SMS_received  \n",
       "count  110527.000000  \n",
       "mean        0.321026  \n",
       "std         0.466873  \n",
       "min         0.000000  \n",
       "25%         0.000000  \n",
       "50%         0.000000  \n",
       "75%         1.000000  \n",
       "max         1.000000  "
      ]
     },
     "execution_count": 6,
     "metadata": {},
     "output_type": "execute_result"
    }
   ],
   "source": [
    "# Summary statistics\n",
    "df.describe()"
   ]
  },
  {
   "cell_type": "markdown",
   "metadata": {},
   "source": [
    "For **Age**, the lowest value is -1 and the highest value is 115, both of which seem incorrect. Furthermore, the max for handicap is 4, where we would expect it to be one because it's a binary variable. Let's investigate this further:"
   ]
  },
  {
   "cell_type": "code",
   "execution_count": 7,
   "metadata": {},
   "outputs": [
    {
     "data": {
      "text/plain": [
       "0    108286\n",
       "1      2042\n",
       "2       183\n",
       "3        13\n",
       "4         3\n",
       "Name: Handcap, dtype: int64"
      ]
     },
     "execution_count": 7,
     "metadata": {},
     "output_type": "execute_result"
    }
   ],
   "source": [
    "# different values for handicap and their counts\n",
    "df.Handcap.value_counts()"
   ]
  },
  {
   "cell_type": "markdown",
   "metadata": {},
   "source": [
    "### Data Cleaning\n",
    "\n",
    "In this section we'll address the issues with the data.\n",
    "\n",
    "First we can drop the **PatientID** and **AppointmentID** columns, because they won't be helpful in predicting if a patient will show up for the appointment."
   ]
  },
  {
   "cell_type": "code",
   "execution_count": 8,
   "metadata": {},
   "outputs": [],
   "source": [
    "# drop columns\n",
    "df.drop(['PatientId', 'AppointmentID'], axis=1, inplace=True)"
   ]
  },
  {
   "cell_type": "markdown",
   "metadata": {},
   "source": [
    "Let's fix some typos and the formatting of the column labels, as well as change the data type of the columns with dates:"
   ]
  },
  {
   "cell_type": "code",
   "execution_count": 9,
   "metadata": {},
   "outputs": [],
   "source": [
    "# change all column labels to lower case\n",
    "df.columns = [x.lower() for x in df.columns]\n",
    "# rename columns\n",
    "df = df.rename(columns = {'scheduledday':'scheduled_day','appointmentday':'appointment_day',\n",
    "                          'neighbourhood':'neighborhood','hipertension':'hypertension', 'handcap':'handicap',\n",
    "                          'no-show':'no_show'})\n",
    "# change ScheduledDay and AppointmentDay data types to datetime\n",
    "df.iloc[:, 1:3] = df.iloc[:, 1:3].apply(pd.to_datetime, errors='coerce')\n",
    "# drop the timestamp from scheduledday\n",
    "df['scheduled_day'] = df['scheduled_day'].dt.normalize()"
   ]
  },
  {
   "cell_type": "markdown",
   "metadata": {},
   "source": [
    "As we found out earlier, the **age** and **handicap** columns had some anomalies. For age, I'll assume that any value below 0 or greater than 105 is an error. In the case of handicap, any value other than 0 will be assumed to mean that the patient has a handicap (and thus will be set to 1)."
   ]
  },
  {
   "cell_type": "code",
   "execution_count": 10,
   "metadata": {},
   "outputs": [],
   "source": [
    "# drop rows with age <0 or >105\n",
    "df.drop(df[df.age < 0].index, inplace=True)\n",
    "df.drop(df[df.age > 105].index, inplace=True)\n",
    "# set handicap to either 0 or 1\n",
    "df.loc[df.handicap != 0, 'handicap'] = 1"
   ]
  },
  {
   "cell_type": "markdown",
   "metadata": {},
   "source": [
    "Because we need the wait time (difference between **appointment_day** and **scheduled_day**) to answer one of our research questions, we have to calculate a new column with this information."
   ]
  },
  {
   "cell_type": "code",
   "execution_count": 11,
   "metadata": {},
   "outputs": [
    {
     "data": {
      "text/plain": [
       "(110516, 13)"
      ]
     },
     "execution_count": 11,
     "metadata": {},
     "output_type": "execute_result"
    }
   ],
   "source": [
    "# add a new column for the wait time\n",
    "df['wait_time'] = df['appointment_day'] - df['scheduled_day']\n",
    "# drop any negative wait times\n",
    "df.drop(df[df.wait_time.dt.days < 0].index, inplace=True)\n",
    "# Change the wait_time variable from timedelta to int\n",
    "df['wait_time'] = df['wait_time'].dt.days\n",
    "# see how many rows are left\n",
    "df.shape"
   ]
  },
  {
   "cell_type": "markdown",
   "metadata": {},
   "source": [
    "After cleaning the data, we have a total of 110,516 appointmens left. Finally, I'll change the values in the **no_show** column from \"No\" and \"Yes\" to 0 and 1 respectively. Transforming them into integers will make it easier to manipulate this data later on."
   ]
  },
  {
   "cell_type": "code",
   "execution_count": 12,
   "metadata": {},
   "outputs": [],
   "source": [
    "df.loc[df.no_show == 'No', 'no_show'] = 0\n",
    "df.loc[df.no_show == 'Yes', 'no_show'] = 1"
   ]
  },
  {
   "cell_type": "markdown",
   "metadata": {},
   "source": [
    "<a id='eda'></a>\n",
    "## Exploratory Data Analysis\n",
    "\n",
    "In this section we'll further explore the data, starting by analyzing the variables one at a time. After that we can move on to the research questions and investigate the relationships between variables.\n"
   ]
  },
  {
   "cell_type": "markdown",
   "metadata": {},
   "source": [
    "#### Gender\n",
    "\n",
    "How many appointments were made by men and how many were made by women?"
   ]
  },
  {
   "cell_type": "code",
   "execution_count": 13,
   "metadata": {},
   "outputs": [
    {
     "data": {
      "text/plain": [
       "F    71831\n",
       "M    38685\n",
       "Name: gender, dtype: int64"
      ]
     },
     "execution_count": 13,
     "metadata": {},
     "output_type": "execute_result"
    }
   ],
   "source": [
    "# value counts per gender\n",
    "df['gender'].value_counts()"
   ]
  },
  {
   "cell_type": "code",
   "execution_count": 14,
   "metadata": {},
   "outputs": [
    {
     "data": {
      "image/png": "[encoded data removed]",
      "text/plain": [
       "<Figure size 432x288 with 1 Axes>"
      ]
     },
     "metadata": {},
     "output_type": "display_data"
    }
   ],
   "source": [
    "# visualization in a bar chart\n",
    "sns.set(style='whitegrid')\n",
    "ax = sns.countplot(x=df.gender, data=df, palette='Set2')\n",
    "ax.set_title('Number of appointments per gender');\n"
   ]
  },
  {
   "cell_type": "markdown",
   "metadata": {},
   "source": [
    "Out of a total of 110,516 appointments, 71,831 were made by women and 38,685 were made by men.\n",
    "\n",
    "#### Age\n",
    "\n",
    "Let's look at the number of appointments per age."
   ]
  },
  {
   "cell_type": "code",
   "execution_count": 15,
   "metadata": {},
   "outputs": [
    {
     "data": {
      "image/png": "[encoded data removed]",
      "text/plain": [
       "<Figure size 720x432 with 1 Axes>"
      ]
     },
     "metadata": {},
     "output_type": "display_data"
    }
   ],
   "source": [
    "#Histogram of age\n",
    "plt.figure(figsize=(10,6))\n",
    "ax = sns.distplot(df.age, bins=20, kde=False)\n",
    "ax.set_title('Age Distribution')\n",
    "ax.set(ylabel='Count');"
   ]
  },
  {
   "cell_type": "code",
   "execution_count": 16,
   "metadata": {},
   "outputs": [
    {
     "data": {
      "image/png": "[encoded data removed]",
      "text/plain": [
       "<Figure size 1728x432 with 1 Axes>"
      ]
     },
     "metadata": {},
     "output_type": "display_data"
    }
   ],
   "source": [
    "#More granular visualization of number of appointments per age\n",
    "plt.figure(figsize=(24,6))\n",
    "ax = sns.countplot(x=df.age, data=df,)\n",
    "ax.set_title('Age Distribution');"
   ]
  },
  {
   "cell_type": "markdown",
   "metadata": {},
   "source": [
    "There are more appointments for 0 and 1 year olds than for any other age. After that the number of appointments stays fairly constant, until it gradually declines as age increases past 60.\n",
    "\n",
    "#### Wait time\n",
    "\n"
   ]
  },
  {
   "cell_type": "markdown",
   "metadata": {},
   "source": [
    "The last variable we'll be examining is the wait time, which is the difference between the date the appointment was made and the date the appointment took place."
   ]
  },
  {
   "cell_type": "code",
   "execution_count": 17,
   "metadata": {},
   "outputs": [
    {
     "data": {
      "image/png": "[encoded data removed]",
      "text/plain": [
       "<Figure size 864x432 with 1 Axes>"
      ]
     },
     "metadata": {},
     "output_type": "display_data"
    }
   ],
   "source": [
    "#Histogram of wait_time\n",
    "plt.figure(figsize=(12,6))\n",
    "ax = sns.distplot(df.wait_time, bins=25, kde=False)\n",
    "ax.set_title('Wait time distribution')\n",
    "ax.set(xlabel='Wait time in days', ylabel='Count');"
   ]
  },
  {
   "cell_type": "code",
   "execution_count": 18,
   "metadata": {},
   "outputs": [
    {
     "data": {
      "text/plain": [
       "0      38561\n",
       "2       6725\n",
       "4       5290\n",
       "1       5213\n",
       "7       4906\n",
       "6       4037\n",
       "5       3277\n",
       "14      2913\n",
       "3       2735\n",
       "8       2332\n",
       "21      1861\n",
       "28      1706\n",
       "13      1682\n",
       "9       1605\n",
       "15      1502\n",
       "10      1391\n",
       "20      1187\n",
       "22      1173\n",
       "16      1151\n",
       "12      1115\n",
       "17      1107\n",
       "29      1089\n",
       "19      1044\n",
       "18      1021\n",
       "27      1013\n",
       "11       987\n",
       "35       963\n",
       "23       822\n",
       "34       808\n",
       "26       731\n",
       "       ...  \n",
       "103        5\n",
       "109        5\n",
       "111        5\n",
       "98         5\n",
       "95         5\n",
       "112        5\n",
       "108        5\n",
       "96         4\n",
       "102        4\n",
       "105        4\n",
       "119        4\n",
       "92         3\n",
       "122        3\n",
       "107        2\n",
       "115        2\n",
       "93         2\n",
       "94         2\n",
       "97         2\n",
       "110        2\n",
       "126        1\n",
       "125        1\n",
       "123        1\n",
       "117        1\n",
       "139        1\n",
       "82         1\n",
       "101        1\n",
       "132        1\n",
       "151        1\n",
       "146        1\n",
       "127        1\n",
       "Name: wait_time, Length: 129, dtype: int64"
      ]
     },
     "execution_count": 18,
     "metadata": {},
     "output_type": "execute_result"
    }
   ],
   "source": [
    "df.wait_time.value_counts()"
   ]
  },
  {
   "cell_type": "markdown",
   "metadata": {},
   "source": [
    "As we can see, the data is skewed to the right, with most appoinments (38,561) being made for the same day. "
   ]
  },
  {
   "cell_type": "markdown",
   "metadata": {},
   "source": [
    "### Research Question 1\n",
    "\n",
    "This question examines if there's any statistical relation between the gender of the patient and the likelihood of not showing up for the medical appointment."
   ]
  },
  {
   "cell_type": "code",
   "execution_count": 19,
   "metadata": {},
   "outputs": [
    {
     "data": {
      "text/plain": [
       "gender\n",
       "F    0.203088\n",
       "M    0.199638\n",
       "Name: no_show, dtype: float64"
      ]
     },
     "execution_count": 19,
     "metadata": {},
     "output_type": "execute_result"
    }
   ],
   "source": [
    "# Calculate the rate of no shows per gender\n",
    "df.groupby('gender').no_show.mean()"
   ]
  },
  {
   "cell_type": "code",
   "execution_count": 20,
   "metadata": {},
   "outputs": [
    {
     "data": {
      "image/png": "[encoded data removed]",
      "text/plain": [
       "<Figure size 432x288 with 1 Axes>"
      ]
     },
     "metadata": {},
     "output_type": "display_data"
    }
   ],
   "source": [
    "#Visualizing this in a bar chart\n",
    "gender_ratio = df.groupby('gender').no_show.mean()\n",
    "\n",
    "sns.set(style='whitegrid')\n",
    "ax = sns.barplot(x=gender_ratio.index, y=gender_ratio, palette='Set2')\n",
    "ax.set_title('Ratio of no shows per gender');"
   ]
  },
  {
   "cell_type": "markdown",
   "metadata": {},
   "source": [
    "There's only a small difference between the percentage of missed appointments: female patients missed about 20.3% of their appointments and male patients missed about 20.0%. Based on this, we might be inclined to conclude that gender has no effect on whether someone shows up or doesn't show up for their appointment. However, at this stage we can't say anything about the statistical significance of this difference.\n",
    "\n",
    "For comparison, the total number of shows versus no shows:"
   ]
  },
  {
   "cell_type": "code",
   "execution_count": 21,
   "metadata": {},
   "outputs": [
    {
     "data": {
      "image/png": "[encoded data removed]",
      "text/plain": [
       "<Figure size 432x288 with 1 Axes>"
      ]
     },
     "metadata": {},
     "output_type": "display_data"
    }
   ],
   "source": [
    "sns.set(style='whitegrid')\n",
    "ax = sns.countplot(x=df.no_show, data=df, palette='Set2')\n",
    "ax.set_title('Number of no show and show appointments');"
   ]
  },
  {
   "cell_type": "code",
   "execution_count": 22,
   "metadata": {},
   "outputs": [
    {
     "data": {
      "text/plain": [
       "0.20188027073003004"
      ]
     },
     "execution_count": 22,
     "metadata": {},
     "output_type": "execute_result"
    }
   ],
   "source": [
    "#Mean of no show appointments\n",
    "df.no_show.mean()"
   ]
  },
  {
   "cell_type": "markdown",
   "metadata": {},
   "source": [
    "On average, regardless of gender, patients don't show up for about 20% of appointments."
   ]
  },
  {
   "cell_type": "markdown",
   "metadata": {},
   "source": [
    "### Research Question 2\n",
    "\n",
    "This questions is about the potential effect of the waiting time on showing up/missing appointments. "
   ]
  },
  {
   "cell_type": "code",
   "execution_count": 23,
   "metadata": {},
   "outputs": [
    {
     "data": {
      "image/png": "[encoded data removed]",
      "text/plain": [
       "<Figure size 1728x432 with 1 Axes>"
      ]
     },
     "metadata": {},
     "output_type": "display_data"
    }
   ],
   "source": [
    "#Calculating the rate of no shows over total appointments per day of wait time\n",
    "wait_ratio = df.groupby('wait_time').no_show.mean()\n",
    "\n",
    "#Increasing the figure size from the default\n",
    "plt.figure(figsize=(24,6))\n",
    "\n",
    "#This plot cuts off wait times more than 60 days for visibility reasons. The vast majority of appointments have\n",
    "#wait times less than 60 days.\n",
    "sns.set(style='whitegrid')\n",
    "ax = sns.barplot(x=wait_ratio.index, y=wait_ratio, order=df.wait_time.iloc[:61].index)\n",
    "ax.set_title('Ratio of no show appointments per day of waiting time')\n",
    "ax.set(xlabel='Wait time in days', ylabel='Percentage of no shows');"
   ]
  },
  {
   "cell_type": "markdown",
   "metadata": {},
   "source": [
    "As it turns out, a shorter wait time appears to be correlated with less no shows. \n",
    "\n",
    "### Research Question 3\n",
    "\n",
    "Next we'll investigate if there's any apparent relation between age and missed appointments. The chart below shows the rate of missed appointments per age group."
   ]
  },
  {
   "cell_type": "code",
   "execution_count": 24,
   "metadata": {},
   "outputs": [
    {
     "data": {
      "image/png": "[encoded data removed]",
      "text/plain": [
       "<Figure size 1728x432 with 1 Axes>"
      ]
     },
     "metadata": {},
     "output_type": "display_data"
    }
   ],
   "source": [
    "#Calculating the rate of no shows per age group\n",
    "age_ratio = df.groupby('age').no_show.mean()\n",
    "\n",
    "#Increasing the size of the plot\n",
    "plt.figure(figsize=(24,6))\n",
    "\n",
    "sns.set(style='whitegrid')\n",
    "ax = sns.barplot(x=age_ratio.index, y=age_ratio)\n",
    "ax.set_title('Percentage of missed appointments per age group');"
   ]
  },
  {
   "cell_type": "markdown",
   "metadata": {},
   "source": [
    "From the chart we can see that the share of missed appointments varies per age group, however it doesn't seem to be a simple linear relation. From age 0 to about 14, the share of missed appointments increases. After that it shows a general decline, until the age of 80, after which there are a few peaks. We can calculate the average age of the patients missing the appointments and the average age of those showing up:"
   ]
  },
  {
   "cell_type": "code",
   "execution_count": 25,
   "metadata": {},
   "outputs": [
    {
     "data": {
      "text/plain": [
       "(37.7887534720254, 34.3070234413518)"
      ]
     },
     "execution_count": 25,
     "metadata": {},
     "output_type": "execute_result"
    }
   ],
   "source": [
    "#masks to make it easier to see who showed up and who didn't\n",
    "showed = df.no_show == 0\n",
    "missed = df.no_show == 1\n",
    "\n",
    "df.age[showed].mean(), df.age[missed].mean()"
   ]
  },
  {
   "cell_type": "markdown",
   "metadata": {},
   "source": [
    "The average age of patients who showed up is 37.8 years, and 34.3 years of those who missed the appointment.\n",
    "\n",
    "### Research Question 4\n",
    "\n",
    "So far we've only been looking at descriptive statistics, which doesn't necessarily carry any weigth in terms of statistical significance. This next section makes the step to inferential statistics, and attempts to build a basic regression model with the 3 independent variables we've been examining (gender, wait time, age). Because the dependent variable in this case is categorical, we use a logistic regression to predict wether an appointment will be missed or not."
   ]
  },
  {
   "cell_type": "code",
   "execution_count": 26,
   "metadata": {},
   "outputs": [
    {
     "name": "stdout",
     "output_type": "stream",
     "text": [
      "Optimization terminated successfully.\n",
      "         Current function value: 0.485404\n",
      "         Iterations 5\n"
     ]
    },
    {
     "data": {
      "text/html": [
       "<table class=\"simpletable\">\n",
       "<caption>Logit Regression Results</caption>\n",
       "<tr>\n",
       "  <th>Dep. Variable:</th>      <td>no_show</td>     <th>  No. Observations:  </th>  <td>110516</td> \n",
       "</tr>\n",
       "<tr>\n",
       "  <th>Model:</th>               <td>Logit</td>      <th>  Df Residuals:      </th>  <td>110512</td> \n",
       "</tr>\n",
       "<tr>\n",
       "  <th>Method:</th>               <td>MLE</td>       <th>  Df Model:          </th>  <td>     3</td> \n",
       "</tr>\n",
       "<tr>\n",
       "  <th>Date:</th>          <td>Thu, 06 Sep 2018</td> <th>  Pseudo R-squ.:     </th>  <td>0.03498</td>\n",
       "</tr>\n",
       "<tr>\n",
       "  <th>Time:</th>              <td>20:19:10</td>     <th>  Log-Likelihood:    </th> <td> -53645.</td>\n",
       "</tr>\n",
       "<tr>\n",
       "  <th>converged:</th>           <td>True</td>       <th>  LL-Null:           </th> <td> -55589.</td>\n",
       "</tr>\n",
       "<tr>\n",
       "  <th> </th>                      <td> </td>        <th>  LLR p-value:       </th>  <td> 0.000</td> \n",
       "</tr>\n",
       "</table>\n",
       "<table class=\"simpletable\">\n",
       "<tr>\n",
       "      <td></td>         <th>coef</th>     <th>std err</th>      <th>z</th>      <th>P>|z|</th>  <th>[0.025</th>    <th>0.975]</th>  \n",
       "</tr>\n",
       "<tr>\n",
       "  <th>intercept</th> <td>   -1.4290</td> <td>    0.017</td> <td>  -82.365</td> <td> 0.000</td> <td>   -1.463</td> <td>   -1.395</td>\n",
       "</tr>\n",
       "<tr>\n",
       "  <th>age</th>       <td>   -0.0078</td> <td>    0.000</td> <td>  -23.148</td> <td> 0.000</td> <td>   -0.008</td> <td>   -0.007</td>\n",
       "</tr>\n",
       "<tr>\n",
       "  <th>wait_time</th> <td>    0.0265</td> <td>    0.000</td> <td>   58.737</td> <td> 0.000</td> <td>    0.026</td> <td>    0.027</td>\n",
       "</tr>\n",
       "<tr>\n",
       "  <th>male</th>      <td>    0.0377</td> <td>    0.016</td> <td>    2.333</td> <td> 0.020</td> <td>    0.006</td> <td>    0.069</td>\n",
       "</tr>\n",
       "</table>"
      ],
      "text/plain": [
       "<class 'statsmodels.iolib.summary.Summary'>\n",
       "\"\"\"\n",
       "                           Logit Regression Results                           \n",
       "==============================================================================\n",
       "Dep. Variable:                no_show   No. Observations:               110516\n",
       "Model:                          Logit   Df Residuals:                   110512\n",
       "Method:                           MLE   Df Model:                            3\n",
       "Date:                Thu, 06 Sep 2018   Pseudo R-squ.:                 0.03498\n",
       "Time:                        20:19:10   Log-Likelihood:                -53645.\n",
       "converged:                       True   LL-Null:                       -55589.\n",
       "                                        LLR p-value:                     0.000\n",
       "==============================================================================\n",
       "                 coef    std err          z      P>|z|      [0.025      0.975]\n",
       "------------------------------------------------------------------------------\n",
       "intercept     -1.4290      0.017    -82.365      0.000      -1.463      -1.395\n",
       "age           -0.0078      0.000    -23.148      0.000      -0.008      -0.007\n",
       "wait_time      0.0265      0.000     58.737      0.000       0.026       0.027\n",
       "male           0.0377      0.016      2.333      0.020       0.006       0.069\n",
       "==============================================================================\n",
       "\"\"\""
      ]
     },
     "execution_count": 26,
     "metadata": {},
     "output_type": "execute_result"
    }
   ],
   "source": [
    "#Set up dummies for gender variable\n",
    "df[['male', 'female']] = pd.get_dummies(df['gender'])\n",
    "#Create an intercept\n",
    "df['intercept'] = 1\n",
    "#Run the logistic regression and show the results\n",
    "logit_mod = sm.Logit(df['no_show'],df[['intercept', 'age', 'wait_time', 'male']])\n",
    "results = logit_mod.fit()\n",
    "results.summary()"
   ]
  },
  {
   "cell_type": "code",
   "execution_count": 27,
   "metadata": {},
   "outputs": [
    {
     "data": {
      "text/plain": [
       "(0.9923295690574124, 1.0268542472616822, 1.0384196602468658)"
      ]
     },
     "execution_count": 27,
     "metadata": {},
     "output_type": "execute_result"
    }
   ],
   "source": [
    "#Exponentiate the coefficients so we can interpret them\n",
    "np.exp(-0.0077), np.exp(0.0265), np.exp(0.0377)"
   ]
  },
  {
   "cell_type": "markdown",
   "metadata": {},
   "source": [
    "After exponentiating the coefficients, we can now interprate the results of the regression: \n",
    "\n",
    "- For each year increase in age, a patient is 0.99 times as likely to miss an appointment, holding all other variables constant. \n",
    "\n",
    "- For each 1 day increase in wait time, a patient is 1.03 times as likely to miss the appointment, holding all other variables constant. \n",
    "\n",
    "- A male patient is 1.04 times as likely to miss an appointment than a female patient, holding all other variables constant.\n",
    "\n",
    "Although the gender dummy has the largest effect, it's P-value isn't as convincing.\n",
    "\n",
    "\n",
    "## Conclusion\n",
    "\n",
    "Summarizing what we've learned from our research questions, we find that there's little evidence to support a correlation between gender and the chance of showing up/missing an appointment. The wait time seems positively correlated with no shows: more appointments are missed as the wait time increases. Finally, age apears to be negatively correlated with no shows. Patients of higher age are less likely to miss their medical appointments. \n",
    "\n",
    "### Limitations\n",
    "\n",
    "Other than the logistic regression in research question 4, this project doesn't include any statistical tests. Since it's outside the scope of this project to determine the fit of the model, the statistical significance of the results is uncertain. This also means that we can't say if the sample correctly represents the population. \n",
    "\n",
    "Furthermore, the data set only includes about a month's worth of appointments. Adding more data points spread across the course of a year might give a better basis for our analysis. "
   ]
  },
  {
   "cell_type": "code",
   "execution_count": null,
   "metadata": {},
   "outputs": [],
   "source": []
  }
 ],
 "metadata": {
  "kernelspec": {
   "display_name": "Python [default]",
   "language": "python",
   "name": "python3"
  },
  "language_info": {
   "codemirror_mode": {
    "name": "ipython",
    "version": 3
   },
   "file_extension": ".py",
   "mimetype": "text/x-python",
   "name": "python",
   "nbconvert_exporter": "python",
   "pygments_lexer": "ipython3",
   "version": "3.7.0"
  }
 },
 "nbformat": 4,
 "nbformat_minor": 2
}
